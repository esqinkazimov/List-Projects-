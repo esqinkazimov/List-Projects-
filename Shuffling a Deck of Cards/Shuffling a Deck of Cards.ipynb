{
 "cells": [
  {
   "cell_type": "code",
   "execution_count": 1,
   "metadata": {},
   "outputs": [
    {
     "name": "stdout",
     "output_type": "stream",
     "text": [
      "The original deck of cards is: \n",
      "['2s', '3s', '4s', '5s', '6s', '7s', '8s', '9s', 'Ts', 'Js', 'Qs', 'Ks', 'As', '2h', '3h', '4h', '5h', '6h', '7h', '8h', '9h', 'Th', 'Jh', 'Qh', 'Kh', 'Ah', '2d', '3d', '4d', '5d', '6d', '7d', '8d', '9d', 'Td', 'Jd', 'Qd', 'Kd', 'Ad', '2c', '3c', '4c', '5c', '6c', '7c', '8c', '9c', 'Tc', 'Jc', 'Qc', 'Kc', 'Ac']\n",
      "\n",
      "The shuffled deck of cards is: \n",
      "['9s', '6s', '7s', 'Ah', '2d', '8c', '5d', '4h', '5h', '7d', '6h', 'Jd', 'Kd', '4s', 'Kc', '9h', 'Jh', '8s', '3d', '5c', '9c', 'Ts', 'Th', '4c', '9d', 'Qh', '6d', '8d', '6c', '8h', '3s', 'Tc', 'Ks', 'As', '7h', 'Kh', 'Jc', 'Qs', '3c', 'Js', 'Ad', '5s', '2s', '3h', 'Qd', '2c', 'Td', '2h', 'Qc', '7c', 'Ac', '4d']\n"
     ]
    }
   ],
   "source": [
    "## Create a deck of cards and shuffle it.\n",
    "\n",
    "from random import randrange\n",
    "\n",
    "# Construct a standard deck of cards with 4 suits and 13 values per suit\n",
    "# @return a list of cards, with each card represented by two characters\n",
    "def createDeck():\n",
    "    # Create a list to store the cards in\n",
    "    cards = []\n",
    "    \n",
    "    # For each suit and each value\n",
    "    for suit in ['s', 'h', 'd', 'c']:\n",
    "        for value in ['2', '3', '4', '5', '6', '7', '8', '9', \\\n",
    "                      'T', 'J', 'Q', 'K', 'A']:\n",
    "            # Construct the card and add it to the list\n",
    "            cards.append(value + suit)\n",
    "            \n",
    "    # Return the complete deck of cards\n",
    "    return cards\n",
    "\n",
    "# Shuffle a deck of cards, modifying the deck of cards passed as a parameter\n",
    "# @param cards the lsit of cards to shuffle\n",
    "def shuffle(cards):\n",
    "    # For each card\n",
    "    for i in range(0, len(cards)):\n",
    "        # Pick a random index\n",
    "        other_pos = randrange(0, len(cards))\n",
    "\n",
    "        # Swap the current card with the one at the random position\n",
    "        temp = cards[i]\n",
    "        cards[i] = cards[other_pos]\n",
    "        cards[other_pos] = temp\n",
    "\n",
    "# Display a deck of cards before and after it has been shuffled\n",
    "def main():\n",
    "    cards = createDeck()\n",
    "    print('The original deck of cards is: ')\n",
    "    print(cards)\n",
    "    print()\n",
    "    \n",
    "    shuffle(cards)\n",
    "    print('The shuffled deck of cards is: ')\n",
    "    print(cards)\n",
    "    \n",
    "# Call the main program only if this file has not been imported \n",
    "if __name__ == '__main__':\n",
    "    main()\n"
   ]
  }
 ],
 "metadata": {
  "kernelspec": {
   "display_name": "Python 3",
   "language": "python",
   "name": "python3"
  },
  "language_info": {
   "codemirror_mode": {
    "name": "ipython",
    "version": 3
   },
   "file_extension": ".py",
   "mimetype": "text/x-python",
   "name": "python",
   "nbconvert_exporter": "python",
   "pygments_lexer": "ipython3",
   "version": "3.6.5"
  }
 },
 "nbformat": 4,
 "nbformat_minor": 2
}
