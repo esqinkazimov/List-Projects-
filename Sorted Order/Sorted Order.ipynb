{
 "cells": [
  {
   "cell_type": "code",
   "execution_count": 1,
   "metadata": {},
   "outputs": [
    {
     "name": "stdout",
     "output_type": "stream",
     "text": [
      "Enter an integer (0 to quit): 99\n",
      "Enter an integer (0 to quit): 678\n",
      "Enter an integer (0 to quit): 32\n",
      "Enter an integer (0 to quit): 12\n",
      "Enter an integer (0 to quit): 67\n",
      "Enter an integer (0 to quit): 32\n",
      "Enter an integer (0 to quit): 45\n",
      "Enter an integer (0 to quit): 65\n",
      "Enter an integer (0 to quit): 75\n",
      "Enter an integer (0 to quit): 34\n",
      "Enter an integer (0 to quit): 0\n",
      "The values, sorted into ascending oreder, are:\n",
      "12\n",
      "32\n",
      "32\n",
      "34\n",
      "45\n",
      "65\n",
      "67\n",
      "75\n",
      "99\n",
      "678\n"
     ]
    }
   ],
   "source": [
    "## Display the integers entered by the user in ascending oreder.\n",
    "\n",
    "# Start with an empty list\n",
    "data = []\n",
    "\n",
    "# Read the values, adding them to the list, until the user enters 0\n",
    "num = int(input('Enter an integer (0 to quit): '))\n",
    "while num != 0:\n",
    "    data.append(num)\n",
    "    num = int(input('Enter an integer (0 to quit): '))\n",
    "    \n",
    "# Sort the values\n",
    "data.sort()\n",
    "\n",
    "# Display the values in ascending order\n",
    "print('The values, sorted into ascending oreder, are:')\n",
    "for num in data:\n",
    "    print(num)"
   ]
  },
  {
   "cell_type": "code",
   "execution_count": null,
   "metadata": {},
   "outputs": [],
   "source": []
  }
 ],
 "metadata": {
  "kernelspec": {
   "display_name": "Python 3",
   "language": "python",
   "name": "python3"
  },
  "language_info": {
   "codemirror_mode": {
    "name": "ipython",
    "version": 3
   },
   "file_extension": ".py",
   "mimetype": "text/x-python",
   "name": "python",
   "nbconvert_exporter": "python",
   "pygments_lexer": "ipython3",
   "version": "3.6.5"
  }
 },
 "nbformat": 4,
 "nbformat_minor": 2
}
