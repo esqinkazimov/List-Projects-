{
 "cells": [
  {
   "cell_type": "code",
   "execution_count": 1,
   "metadata": {},
   "outputs": [
    {
     "name": "stdout",
     "output_type": "stream",
     "text": [
      "Enter a word (blank line to quit): hello\n",
      "Enter a word (blan line to quit): what\n",
      "Enter a word (blan line to quit): who\n",
      "Enter a word (blan line to quit): what\n",
      "Enter a word (blan line to quit): why\n",
      "Enter a word (blan line to quit): \n",
      "hello\n",
      "what\n",
      "who\n",
      "why\n"
     ]
    }
   ],
   "source": [
    "## Read a collection of words entered by the user. Display each word\n",
    "## entered by the user only once, in the same order that the words were entered\n",
    "\n",
    "# Begin reading word into a list\n",
    "words = []\n",
    "word = input('Enter a word (blank line to quit): ')\n",
    "while word != '':\n",
    "    # Only add the word to the list if\n",
    "    # it is not already present in it\n",
    "    if word not in words:\n",
    "        words.append(word)\n",
    "        \n",
    "    # Read the next word from the user\n",
    "    word = input('Enter a word (blan line to quit): ')\n",
    "    \n",
    "# Display the unique words:\n",
    "for word in words:\n",
    "    print(word)"
   ]
  }
 ],
 "metadata": {
  "kernelspec": {
   "display_name": "Python 3",
   "language": "python",
   "name": "python3"
  },
  "language_info": {
   "codemirror_mode": {
    "name": "ipython",
    "version": 3
   },
   "file_extension": ".py",
   "mimetype": "text/x-python",
   "name": "python",
   "nbconvert_exporter": "python",
   "pygments_lexer": "ipython3",
   "version": "3.6.5"
  }
 },
 "nbformat": 4,
 "nbformat_minor": 2
}
