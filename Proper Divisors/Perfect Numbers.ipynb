{
 "cells": [
  {
   "cell_type": "code",
   "execution_count": 1,
   "metadata": {},
   "outputs": [
    {
     "name": "stdout",
     "output_type": "stream",
     "text": [
      "The perfect numbers between 1 and 10000 are:\n",
      "  6\n",
      "  28\n",
      "  496\n",
      "  8128\n"
     ]
    }
   ],
   "source": [
    "## Determine the perfect numbers\n",
    "\n",
    "LIMIT = 10000\n",
    "    \n",
    "## Determine whether or not a number is perfect. A number is perfect if the\n",
    "## sum of its proper divisors is equal to the number itself\n",
    "# @param n the number to check for perfection\n",
    "# @return True if the number is perfect, False otherwise\n",
    "\n",
    "def isPerfect(n):\n",
    "    # Get a lsit of the proper divisors of n\n",
    "    proper_divisors = [i for i in range(1, n) if n % i == 0]\n",
    "    \n",
    "    # Compute the total of all of the divisors\n",
    "    total = 0\n",
    "    for d in proper_divisors:\n",
    "        total = total + d\n",
    "        \n",
    "    # Return the appropriate result\n",
    "    if total == n:\n",
    "        return True\n",
    "    return False\n",
    "    \n",
    "# Read an integer from the user and display the result\n",
    "def main():\n",
    "    print('The perfect numbers between 1 and', LIMIT, 'are:')\n",
    "    for i in range(1, LIMIT + 1):\n",
    "        if isPerfect(i):\n",
    "            print(' ', i)\n",
    "\n",
    "# Call the main function\n",
    "main()"
   ]
  },
  {
   "cell_type": "code",
   "execution_count": null,
   "metadata": {},
   "outputs": [],
   "source": []
  }
 ],
 "metadata": {
  "kernelspec": {
   "display_name": "Python 3",
   "language": "python",
   "name": "python3"
  },
  "language_info": {
   "codemirror_mode": {
    "name": "ipython",
    "version": 3
   },
   "file_extension": ".py",
   "mimetype": "text/x-python",
   "name": "python",
   "nbconvert_exporter": "python",
   "pygments_lexer": "ipython3",
   "version": "3.6.5"
  }
 },
 "nbformat": 4,
 "nbformat_minor": 2
}
