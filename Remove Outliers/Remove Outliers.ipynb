{
 "cells": [
  {
   "cell_type": "code",
   "execution_count": 1,
   "metadata": {},
   "outputs": [
    {
     "name": "stdout",
     "output_type": "stream",
     "text": [
      "Enter a value (blan line to quit): 1\n",
      "Enter a value (blank line to quit): 2\n",
      "Enter a value (blank line to quit): 3\n",
      "Enter a value (blank line to quit): 4\n",
      "Enter a value (blank line to quit): 5\n",
      "Enter a value (blank line to quit): 6\n",
      "Enter a value (blank line to quit): 7\n",
      "Enter a value (blank line to quit): 8\n",
      "Enter a value (blank line to quit): 9\n",
      "Enter a value (blank line to quit): 10\n",
      "Enter a value (blank line to quit): \n",
      "With the outliers removed:  [3.0, 4.0, 5.0, 6.0, 7.0, 8.0]\n",
      "The original data:  [1.0, 2.0, 3.0, 4.0, 5.0, 6.0, 7.0, 8.0, 9.0, 10.0]\n"
     ]
    }
   ],
   "source": [
    "## Remove the outliers from a data set.\n",
    "\n",
    "## Remove the outliers from a list of data\n",
    "# @param data the list of data values to process\n",
    "# @param num_outliers the number of samllest and largest values to remove\n",
    "# @return a new copy of data where the values are sorted into ascending\n",
    "#         order and the smallest and largest values have been removed\n",
    "\n",
    "def removeOutliers(data, num_outliers):\n",
    "    # Create a new copy of the list that is in sorted order\n",
    "    retval = sorted(data)\n",
    "    \n",
    "    # Remove num_outliers largest values\n",
    "    for i in range(num_outliers):\n",
    "        retval.pop()\n",
    "        \n",
    "    # Remove num_outlies smallest values\n",
    "    for i in range(num_outliers):\n",
    "        retval.pop(0)\n",
    "        \n",
    "    # return the result\n",
    "    return retval\n",
    "\n",
    "# Read data from the user, and remove the two largest and two smallest values\n",
    "def main():\n",
    "    # Read values from the user until a blank line is entered \n",
    "    values = []\n",
    "    s = input('Enter a value (blan line to quit): ')\n",
    "    while s != '':\n",
    "        num = float(s)\n",
    "        values.append(num)\n",
    "        s = input('Enter a value (blank line to quit): ')\n",
    "        \n",
    "    # Display rhe result or an appropriate error message\n",
    "    if len(values) < 4:\n",
    "        print('You did not enter enough values.')\n",
    "    else:\n",
    "        print('With the outliers removed: ', removeOutliers(values, 2))\n",
    "        print('The original data: ', values)\n",
    "\n",
    "# Call the main function\n",
    "main()"
   ]
  }
 ],
 "metadata": {
  "kernelspec": {
   "display_name": "Python 3",
   "language": "python",
   "name": "python3"
  },
  "language_info": {
   "codemirror_mode": {
    "name": "ipython",
    "version": 3
   },
   "file_extension": ".py",
   "mimetype": "text/x-python",
   "name": "python",
   "nbconvert_exporter": "python",
   "pygments_lexer": "ipython3",
   "version": "3.6.5"
  }
 },
 "nbformat": 4,
 "nbformat_minor": 2
}
