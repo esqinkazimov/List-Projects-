{
 "cells": [
  {
   "cell_type": "code",
   "execution_count": 1,
   "metadata": {},
   "outputs": [
    {
     "name": "stdout",
     "output_type": "stream",
     "text": [
      "Enter the x part of the coordinate (balnk to quit): 1\n",
      "Enter the y part of the coordinate: 1\n",
      "Enter the x part of the coordinate (balnk to quit): 2\n",
      "Enter the y part of the coordinate: 2.1\n",
      "Enter the x part of the coordinate (balnk to quit): 3\n",
      "Enter the y part of the coordinate: 2.9\n",
      "Enter the x part of the coordinate (balnk to quit): \n",
      "y = 0.95x + 0.10\n"
     ]
    }
   ],
   "source": [
    "## Determine the formula for the line of best fit \n",
    "\n",
    "# Declare the elements of formula to find coefficient of the x and independent variable\n",
    "SUM_OF_X_SQUARE = 0\n",
    "SUM_OF_X_MULTIPLY_Y = 0\n",
    "SUM_OF_X = 0\n",
    "SUM_OF_Y = 0\n",
    "SQUARE_OF_SUM_X = 0\n",
    "COUNT = 0\n",
    "\n",
    "# Read the coordinates\n",
    "line = input('Enter the x part of the coordinate (balnk to quit): ')\n",
    "while line != '':\n",
    "    x = float(line)\n",
    "    y = float(input('Enter the y part of the coordinate: '))\n",
    "    \n",
    "    SUM_OF_X += x\n",
    "    SUM_OF_Y += y\n",
    "    SUM_OF_X_SQUARE += x ** 2\n",
    "    SUM_OF_X_MULTIPLY_Y += x * y\n",
    "    COUNT += 1\n",
    "    # Read the x part of the next coordinate\n",
    "    line = input('Enter the x part of the coordinate (balnk to quit): ')\n",
    "\n",
    "SQUARE_OF_SUM_X = SUM_OF_X ** 2\n",
    "\n",
    "\n",
    "# Calculate  coefficient of x (m) and the indeendent variable (b)\n",
    "m = (SUM_OF_X_MULTIPLY_Y - (SUM_OF_X * SUM_OF_Y) / COUNT) / (SUM_OF_X_SQUARE - SQUARE_OF_SUM_X / COUNT)\n",
    "b = SUM_OF_Y / COUNT - m * (SUM_OF_X / COUNT)\n",
    "\n",
    "# Display the formula\n",
    "print('y = %.2fx + %.2f' % (m, b))"
   ]
  }
 ],
 "metadata": {
  "kernelspec": {
   "display_name": "Python 3",
   "language": "python",
   "name": "python3"
  },
  "language_info": {
   "codemirror_mode": {
    "name": "ipython",
    "version": 3
   },
   "file_extension": ".py",
   "mimetype": "text/x-python",
   "name": "python",
   "nbconvert_exporter": "python",
   "pygments_lexer": "ipython3",
   "version": "3.6.5"
  }
 },
 "nbformat": 4,
 "nbformat_minor": 2
}
