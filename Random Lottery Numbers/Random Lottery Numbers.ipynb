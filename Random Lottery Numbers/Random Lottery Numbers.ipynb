{
 "cells": [
  {
   "cell_type": "code",
   "execution_count": 1,
   "metadata": {},
   "outputs": [
    {
     "name": "stdout",
     "output_type": "stream",
     "text": [
      "Your numbers are: 7 20 21 28 41 49 \n"
     ]
    }
   ],
   "source": [
    "## Compute random but distinct numbers for a lottery ticket.\n",
    "\n",
    "from random import randrange\n",
    "\n",
    "MIN_NUM = 1\n",
    "MAX_NUM = 49\n",
    "NUM_NUMS = 6\n",
    "\n",
    "# Keep a list of the numbers for the ticket\n",
    "ticket_nums = []\n",
    "\n",
    "# Genereate NUM_NUMS random but distinct numbers\n",
    "for i in range(NUM_NUMS):\n",
    "    # Generate a number that isn't already on the ticket\n",
    "    rand = randrange(MIN_NUM, MAX_NUM + 1)\n",
    "    while rand in ticket_nums:\n",
    "        rand = randrange(MIN_NUM, MAX_NUM + 1)\n",
    "        \n",
    "    # Add the distinct number to the ticket\n",
    "    ticket_nums.append(rand)\n",
    "    \n",
    "# Sort the numbers into ascending order and display them\n",
    "ticket_nums.sort()\n",
    "print('Your numbers are: ', end = '')\n",
    "for n in ticket_nums:\n",
    "    print(n, end = ' ')\n",
    "print()"
   ]
  }
 ],
 "metadata": {
  "kernelspec": {
   "display_name": "Python 3",
   "language": "python",
   "name": "python3"
  },
  "language_info": {
   "codemirror_mode": {
    "name": "ipython",
    "version": 3
   },
   "file_extension": ".py",
   "mimetype": "text/x-python",
   "name": "python",
   "nbconvert_exporter": "python",
   "pygments_lexer": "ipython3",
   "version": "3.6.5"
  }
 },
 "nbformat": 4,
 "nbformat_minor": 2
}
